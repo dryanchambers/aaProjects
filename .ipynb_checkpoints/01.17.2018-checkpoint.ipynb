{
 "cells": [
  {
   "cell_type": "code",
   "execution_count": 26,
   "metadata": {},
   "outputs": [
    {
     "name": "stdout",
     "output_type": "stream",
     "text": [
      "Welcome to Bellingham the current weather is washingtonian and the time is 1. Humidity 2.12\n",
      "tur\n",
      "\n",
      "duck!en\n"
     ]
    }
   ],
   "source": [
    "import time\n",
    "currentweather = \"washingtonian\"\n",
    "currenttime = 1\n",
    "currenthumidity = 2.12421\n",
    "print(\"Welcome to Bellingham the current weather is %s and the time is %s. Humidity %.2f\" % (currentweather, currenttime, currenthumidity))\n",
    "\n",
    "time.sleep(3)\n",
    "print(\"tur\", end=\"\\n\\n\")\n",
    "time.sleep(3)\n",
    "print(\"duck\", \"en\", sep=\"!\")"
   ]
  },
  {
   "cell_type": "code",
   "execution_count": 44,
   "metadata": {},
   "outputs": [
    {
     "name": "stdout",
     "output_type": "stream",
     "text": [
      "Velma\n",
      "['Scooby', 'Daphne', 'Shaggy']\n",
      "Daphne\n",
      "(['Velma', 'Scooby', 'Daphne', 'Shaggy', 'Fred'], 'The Mystery Machine', 9000, True)\n",
      "time.struct_time(tm_year=2018, tm_mon=1, tm_mday=17, tm_hour=14, tm_min=6, tm_sec=26, tm_wday=2, tm_yday=17, tm_isdst=0)\n",
      "{'Fred': 'burger', 'Daphne': 'lasagna', 'Scooby': 'literally everything'}\n",
      "literally everything\n"
     ]
    }
   ],
   "source": [
    "# Collections\n",
    "# [] List : numerically indexed, starting with 0, must contain items of the same type\n",
    "mysteryInc=['Velma', 'Scooby', 'Daphne', 'Shaggy', 'Fred']\n",
    "# getting first element\n",
    "print(mysteryInc[0])\n",
    "#get a slice\n",
    "print(mysteryInc[1:4])\n",
    "# get an element from a slice\n",
    "print(mysteryInc[1:4][1])\n",
    "\n",
    "# () tuple : size is fixed, can contain varying data types\n",
    "mysteryInc2=(mysteryInc, \"The Mystery Machine\", 9000, True)\n",
    "print(mysteryInc2)\n",
    "import time\n",
    "print(time.localtime())\n",
    "\n",
    "# {} maps : Lookup table, you define the keys and the values\n",
    "favoriteFoods={'Fred':'burger', 'Daphne':'lasagna', 'Scooby':'literally everything'}\n",
    "print(favoriteFoods)\n",
    "print(favoriteFoods['Scooby'])"
   ]
  },
  {
   "cell_type": "code",
   "execution_count": 51,
   "metadata": {},
   "outputs": [
    {
     "name": "stdout",
     "output_type": "stream",
     "text": [
      "I am using 'single' and double quotes\n",
      "i am \"using\" 'triple' quotes\n",
      "I'm using backslash escape\n",
      "the time is 1 the day is 2 the month is 3\n",
      "Hello WorldHello WorldHello WorldHello WorldHello World\n"
     ]
    }
   ],
   "source": [
    "print(\"I am using 'single' and double quotes\")\n",
    "print('''i am \"using\" 'triple' quotes''')\n",
    "print('I\\'m using backslash escape')\n",
    "\n",
    "\n",
    "time = 1\n",
    "day = 2\n",
    "month = 3\n",
    "print(\"the time is %s the day is %s the month is %s\" % (time, day, month))\n",
    "\n",
    "print(\"Hello World\" * 5)\n",
    "\n"
   ]
  }
 ],
 "metadata": {
  "kernelspec": {
   "display_name": "Python 3",
   "language": "python",
   "name": "python3"
  },
  "language_info": {
   "codemirror_mode": {
    "name": "ipython",
    "version": 3
   },
   "file_extension": ".py",
   "mimetype": "text/x-python",
   "name": "python",
   "nbconvert_exporter": "python",
   "pygments_lexer": "ipython3",
   "version": "3.6.3"
  }
 },
 "nbformat": 4,
 "nbformat_minor": 2
}
