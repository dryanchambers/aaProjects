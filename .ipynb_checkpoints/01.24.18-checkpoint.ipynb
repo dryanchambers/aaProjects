{
 "cells": [
  {
   "cell_type": "code",
   "execution_count": 2,
   "metadata": {
    "scrolled": true
   },
   "outputs": [
    {
     "data": {
      "application/vnd.jupyter.widget-view+json": {
       "model_id": "97af26ef3cf14619bf79918fbf591f34",
       "version_major": 2,
       "version_minor": 0
      },
      "text/plain": [
       "A Jupyter Widget"
      ]
     },
     "metadata": {},
     "output_type": "display_data"
    }
   ],
   "source": [
    "from ipyturtle import Turtle\n",
    "t = Turtle(fixed=False, width=320, height=320)\n",
    "\n",
    "def circle():\n",
    "    for i in range(360):\n",
    "        t.forward(1)\n",
    "        t.right(1)\n",
    "    \n",
    "t"
   ]
  },
  {
   "cell_type": "code",
   "execution_count": 3,
   "metadata": {},
   "outputs": [],
   "source": [
    "#D drawing\n",
    "t.penup()\n",
    "t.left(90)\n",
    "t.forward(50)\n",
    "t.right(90)\n",
    "t.pendown()\n",
    "t.forward(50)\n",
    "t.penup()\n",
    "t.right(90)\n",
    "t.pendown()\n",
    "t.forward(30)\n",
    "t.penup()\n",
    "t.right(45)\n",
    "t.pendown()\n",
    "t.forward(15)\n",
    "t.penup()\n",
    "t.right(45)\n",
    "t.pendown()\n",
    "t.forward(20)\n",
    "t.penup()\n",
    "t.right(45)\n",
    "t.pendown()\n",
    "t.forward(15)\n",
    "t.penup()\n",
    "t.right(45)\n",
    "t.pendown()\n",
    "t.forward(30)\n",
    "t.penup()\n",
    "\n",
    "#setting position\n",
    "t.penup()\n",
    "t.right(180)\n",
    "t.forward(50)\n",
    "t.left(90)\n",
    "\n",
    "#C drawing\n",
    "t.pendown()\n",
    "t.forward(40)\n",
    "t.penup()\n",
    "t.right(90)\n",
    "t.pendown()\n",
    "t.forward(30)\n",
    "t.penup()\n",
    "t.right(90)\n",
    "t.forward(40)\n",
    "t.right(90)\n",
    "t.pendown()\n",
    "t.forward(32)\n",
    "\n",
    "#getting out of way\n",
    "t.penup()\n",
    "t.forward(75)"
   ]
  }
 ],
 "metadata": {
  "kernelspec": {
   "display_name": "Python 3",
   "language": "python",
   "name": "python3"
  },
  "language_info": {
   "codemirror_mode": {
    "name": "ipython",
    "version": 3
   },
   "file_extension": ".py",
   "mimetype": "text/x-python",
   "name": "python",
   "nbconvert_exporter": "python",
   "pygments_lexer": "ipython3",
   "version": "3.6.3"
  }
 },
 "nbformat": 4,
 "nbformat_minor": 2
}
