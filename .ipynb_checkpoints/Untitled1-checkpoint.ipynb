{
 "cells": [
  {
   "cell_type": "code",
   "execution_count": null,
   "metadata": {},
   "outputs": [
    {
     "data": {
      "application/vnd.jupyter.widget-view+json": {
       "model_id": "227857af70e54b049f19d828d92cbd69",
       "version_major": 2,
       "version_minor": 0
      },
      "text/plain": [
       "A Jupyter Widget"
      ]
     },
     "metadata": {},
     "output_type": "display_data"
    }
   ],
   "source": [
    "from ipyturtle import Turtle\n",
    "t = Turtle(fixed=False, width=320, height=320)\n",
    "\n",
    "def circle():\n",
    "    for i in range(360):\n",
    "        t.forward(1)\n",
    "        t.right(1)\n",
    "def square():\n",
    "    t.pendown\n",
    "    t.forward(30)\n",
    "    t.right(90)\n",
    "    t.forward(30)\n",
    "    t.right(90)\n",
    "    t.forward(30)\n",
    "    t.right(90)\n",
    "    t.forward(30)\n",
    "def triangle():\n",
    "    t.pendown()\n",
    "    t.forward(30)\n",
    "    t.right(135)\n",
    "    t.forward(30)\n",
    "    t.right(135)\n",
    "    t.forward(30)\n",
    "t"
   ]
  },
  {
   "cell_type": "code",
   "execution_count": null,
   "metadata": {},
   "outputs": [],
   "source": [
    "drawshape = False\n",
    "shapechoice = [\"Circle\", \"Square\", \"Triangle\"]\n",
    "reply = [\"y\", \"n\"]\n",
    "\n",
    "drawshape_str = input(\"Do you want to draw? y/n\")\n",
    "drawshape = drawshape_str in reply\n",
    "if drawshape:\n",
    "    shapechoice = input(\"What shape? (Circle,Square,Triangle)\")\n",
    "\n",
    "if not drawshape:\n",
    "    print(\"That's not a shape!\")\n",
    "else:\n",
    "    if shapechoice == \"Circle\":\n",
    "        circle()\n",
    "        print(\"You have drawn a circle.\")\n",
    "    elif shapechoice == \"Square\":\n",
    "        square()\n",
    "        print(\"You have drawn a square.\")\n",
    "    elif shapechoice == \"Triangle\":\n",
    "        triangle()\n",
    "        print(\"You have drawn a triangle.\")\n",
    "    else:\n",
    "        print(\"That's not a shape.\")"
   ]
  }
 ],
 "metadata": {
  "kernelspec": {
   "display_name": "Python 3",
   "language": "python",
   "name": "python3"
  },
  "language_info": {
   "codemirror_mode": {
    "name": "ipython",
    "version": 3
   },
   "file_extension": ".py",
   "mimetype": "text/x-python",
   "name": "python",
   "nbconvert_exporter": "python",
   "pygments_lexer": "ipython3",
   "version": "3.6.3"
  }
 },
 "nbformat": 4,
 "nbformat_minor": 2
}
