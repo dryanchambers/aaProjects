{
 "cells": [
  {
   "cell_type": "code",
   "execution_count": 11,
   "metadata": {},
   "outputs": [
    {
     "name": "stdout",
     "output_type": "stream",
     "text": [
      "welcome to magic 8ball\n",
      "what is your question?\n",
      "will this work\n",
      "thinking\n",
      "ask again later\n",
      "Do you want to ask another question?\n",
      "yes\n",
      "what is your question?\n",
      "will this work\n",
      "thinking\n",
      "yes\n",
      "Do you want to ask another question?\n",
      "no\n"
     ]
    }
   ],
   "source": [
    "import time\n",
    "from random import randint\n",
    "\n",
    "replies =[\"yes\", \"no\", \"maybe\", \"without a doubt\", \"no way jose\", \"possibly\", \"ask again later\"]\n",
    "\n",
    "def question():\n",
    "    print(\"what is your question?\")\n",
    "    question = input()\n",
    "    print(\"thinking\")\n",
    "    time.sleep(3)\n",
    "    print(replies[randint(0,6)])\n",
    "    end()\n",
    "    \n",
    "def end():\n",
    "    print (\"Do you want to ask another question?\")\n",
    "    user_reply = input()\n",
    "    if user_reply == \"yes\":\n",
    "        question()\n",
    "\n",
    "print(\"welcome to magic 8ball\")\n",
    "question()"
   ]
  },
  {
   "cell_type": "code",
   "execution_count": null,
   "metadata": {
    "collapsed": true
   },
   "outputs": [],
   "source": []
  }
 ],
 "metadata": {
  "kernelspec": {
   "display_name": "Python 3",
   "language": "python",
   "name": "python3"
  },
  "language_info": {
   "codemirror_mode": {
    "name": "ipython",
    "version": 3
   },
   "file_extension": ".py",
   "mimetype": "text/x-python",
   "name": "python",
   "nbconvert_exporter": "python",
   "pygments_lexer": "ipython3",
   "version": "3.6.3"
  }
 },
 "nbformat": 4,
 "nbformat_minor": 2
}
