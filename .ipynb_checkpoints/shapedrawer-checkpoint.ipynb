{
 "cells": [
  {
   "cell_type": "code",
   "execution_count": null,
   "metadata": {},
   "outputs": [],
   "source": [
    "from ipyturtle import Turtle\n",
    "t = Turtle(fixed=False, width=320, height=320)\n",
    "\n",
    "def circle():\n",
    "    for i in range(360):\n",
    "        t.forward(1)\n",
    "        t.right(1)\n",
    "    \n",
    "t"
   ]
  },
  {
   "cell_type": "code",
   "execution_count": null,
   "metadata": {
    "collapsed": true
   },
   "outputs": [],
   "source": [
    "t.pendown()\n",
    "circle()"
   ]
  },
  {
   "cell_type": "code",
   "execution_count": null,
   "metadata": {},
   "outputs": [],
   "source": [
    "drawshape = False\n",
    "shapechoice = [\"Circle\", \"Square\", \"Triangle\"]\n",
    "affirmations = [\"yes\", \"yeah\"]\n",
    "\n",
    "drawshape_str = input(\"Do you want to draw?\")\n",
    "drawshape = drawshape_str in affirmations\n",
    "if drawshape:\n",
    "    shapechoice = input(\"What shape?\")\n",
    "\n",
    "if not drawshape:\n",
    "    print(\"That's not a shape!\")\n",
    "else:\n",
    "    if drawshape == \"Circle\":\n",
    "        print(\"circle\")\n",
    "        circle()\n",
    "    else:\n",
    "        print(\"fail\")"
   ]
  }
 ],
 "metadata": {
  "kernelspec": {
   "display_name": "Python 3",
   "language": "python",
   "name": "python3"
  },
  "language_info": {
   "codemirror_mode": {
    "name": "ipython",
    "version": 3
   },
   "file_extension": ".py",
   "mimetype": "text/x-python",
   "name": "python",
   "nbconvert_exporter": "python",
   "pygments_lexer": "ipython3",
   "version": "3.6.3"
  }
 },
 "nbformat": 4,
 "nbformat_minor": 2
}
