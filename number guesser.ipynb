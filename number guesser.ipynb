{
 "cells": [
  {
   "cell_type": "code",
   "execution_count": 34,
   "metadata": {
    "scrolled": true
   },
   "outputs": [
    {
     "name": "stdout",
     "output_type": "stream",
     "text": [
      "Guess the number 1-100:12\n",
      "too low\n",
      "Guess the number 1-100:500\n",
      "too high\n",
      "Guess the number 1-100:400\n",
      "too low\n",
      "Guess the number 1-100:450\n",
      "too high\n",
      "Guess the number 1-100:425\n",
      "too low\n",
      "Guess the number 1-100:430\n",
      "too low\n",
      "Guess the number 1-100:435\n",
      "too low\n",
      "Guess the number 1-100:440\n",
      "too low\n",
      "Guess the number 1-100:445\n",
      "too high\n",
      "Guess the number 1-100:442\n",
      "Nice you guessed it!\n"
     ]
    }
   ],
   "source": [
    "from random import randint\n",
    "\n",
    "testnumber = randint(0, 1000)\n",
    "\n",
    "guess = int(input(\"Guess the number 1-100:\"))\n",
    "while testnumber != guess:\n",
    "    print\n",
    "    if guess > testnumber:\n",
    "        print(\"too high\")\n",
    "        guess = (int(input(\"Guess the number 1-100:\")))\n",
    "    elif guess < testnumber:\n",
    "        print(\"too low\")\n",
    "        guess = (int(input(\"Guess the number 1-100:\")))\n",
    "    else:\n",
    "        print(\"correct\")\n",
    "    print\n",
    "else:\n",
    "    print(\"Nice you guessed it!\")"
   ]
  }
 ],
 "metadata": {
  "kernelspec": {
   "display_name": "Python 3",
   "language": "python",
   "name": "python3"
  },
  "language_info": {
   "codemirror_mode": {
    "name": "ipython",
    "version": 3
   },
   "file_extension": ".py",
   "mimetype": "text/x-python",
   "name": "python",
   "nbconvert_exporter": "python",
   "pygments_lexer": "ipython3",
   "version": "3.6.3"
  }
 },
 "nbformat": 4,
 "nbformat_minor": 2
}
