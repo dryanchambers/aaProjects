{
 "cells": [
  {
   "cell_type": "code",
   "execution_count": null,
   "metadata": {},
   "outputs": [],
   "source": [
    "taxableincome = 0\n",
    "filingchoice = False\n",
    "filingstatus = \" \"\n",
    "reply = [\"y\", \"n\"]\n",
    "\n",
    "filing_str = input(\"Do you want to do taxes? y/n\")\n",
    "filingchoice = filing_str in reply\n",
    "if filingchoice:\n",
    "    print(\"Filing status:\")\n",
    "    print(\"1. Single\")\n",
    "    print(\"2. Married filing jointly\")\n",
    "    print(\"3. Married filing separately\")\n",
    "    print(\"4. Head of household\")\n",
    "    shapechoice = input(\"Choose 1-4\")\n",
    "    \n",
    "if shapechoice == 1:\n",
    "    if taxableincome < 9325:\n",
    "        taxbracket=10%\n",
    "        income = input(\"Income:\")\n",
    "        print(income * taxbracket)\n",
    "if shapechoice == 2:\n",
    "    if taxableincome > 9325:\n",
    "        print(\"test\")\n",
    "elif shapechoice == 3:\n",
    "    filingstatus == \"Married filing separately\"\n",
    "elif shapechoice == 4:\n",
    "    filingstatus == \"Head of household\"\n",
    "else:\n",
    "    print(\"That's not 1-4\")\n",
    "    \n",
    "    "
   ]
  },
  {
   "cell_type": "code",
   "execution_count": null,
   "metadata": {
    "collapsed": true
   },
   "outputs": [],
   "source": [
    "    \n",
    "if not filingchoice:\n",
    "    print(\"No one does\")\n",
    "else:\n",
    "    if filingstatus == \"Single\":\n",
    "        print(\"single\")\n",
    "    elif filingstatus == \"Married filing jointly\":\n",
    "        print(\"Married filing jointly\")\n",
    "    elif filingstatus == \"Married filing separately\":\n",
    "        print(\"Married filing separately\")\n",
    "    elif filingstatus == \"Head of household\":\n",
    "        print(\"Head of household\")\n",
    "    else:\n",
    "        print(\"That's not a filing status!\")"
   ]
  }
 ],
 "metadata": {
  "kernelspec": {
   "display_name": "Python 3",
   "language": "python",
   "name": "python3"
  },
  "language_info": {
   "codemirror_mode": {
    "name": "ipython",
    "version": 3
   },
   "file_extension": ".py",
   "mimetype": "text/x-python",
   "name": "python",
   "nbconvert_exporter": "python",
   "pygments_lexer": "ipython3",
   "version": "3.6.3"
  }
 },
 "nbformat": 4,
 "nbformat_minor": 2
}
